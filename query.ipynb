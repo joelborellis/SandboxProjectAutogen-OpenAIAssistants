{
 "cells": [
  {
   "cell_type": "code",
   "execution_count": 8,
   "metadata": {},
   "outputs": [
    {
     "name": "stdout",
     "output_type": "stream",
     "text": [
      "creating search client with - sales_vector_index\n"
     ]
    }
   ],
   "source": [
    "# Import required libraries  \n",
    "import os  \n",
    "from openai import OpenAI\n",
    "from dotenv import load_dotenv  \n",
    "from azure.core.credentials import AzureKeyCredential  \n",
    "from azure.search.documents import SearchClient \n",
    "from azure.search.documents.models import (\n",
    "    VectorizedQuery,\n",
    "    VectorFilterMode,    \n",
    ")\n",
    "from backend.tools.searchtool import Search\n",
    "  \n",
    "# Configure environment variables  \n",
    "load_dotenv()  \n",
    "service_endpoint = os.getenv(\"AZURE_SEARCH_ENDPOINT\") \n",
    "index_name = os.getenv(\"AZURE_SEARCH_INDEX\") \n",
    "key = os.getenv(\"AZURE_SEARCH_ADMIN_KEY\") \n",
    "credential = AzureKeyCredential(key)\n",
    "openai_client = OpenAI()\n",
    "openai_model = os.getenv(\"OPENAI_MODEL\")\n",
    "\n",
    "search_client: Search = Search('sales_vector_index')  # get instance of search to query corpus using the name of the index"
   ]
  },
  {
   "cell_type": "code",
   "execution_count": 9,
   "metadata": {},
   "outputs": [],
   "source": [
    "def get_embedding(text, model='text-embedding-ada-002'):\n",
    "   text = text.replace(\"\\n\", \" \")\n",
    "   return openai_client.embeddings.create(input = [text], model=model).data[0].embedding"
   ]
  },
  {
   "cell_type": "code",
   "execution_count": 10,
   "metadata": {},
   "outputs": [
    {
     "name": "stdout",
     "output_type": "stream",
     "text": [
      "Starting Search - describe challenger sales model\n",
      "Got embedding\n",
      "Got result\n"
     ]
    },
    {
     "ename": "HttpResponseError",
     "evalue": "(InvalidRequestParameter) The selected filter mode 'preFilter' is not supported by this index. Only new indexes opted in will support the filter type.\r\nParameter name: vector.filterMode\nCode: InvalidRequestParameter\nMessage: The selected filter mode 'preFilter' is not supported by this index. Only new indexes opted in will support the filter type.\r\nParameter name: vector.filterMode\nException Details:\t(InvalidVectorQuery) The selected filter mode 'preFilter' is not supported by this index. Only new indexes opted in will support the filter type.\n\tCode: InvalidVectorQuery\n\tMessage: The selected filter mode 'preFilter' is not supported by this index. Only new indexes opted in will support the filter type.",
     "output_type": "error",
     "traceback": [
      "\u001b[1;31m---------------------------------------------------------------------------\u001b[0m",
      "\u001b[1;31mHttpResponseError\u001b[0m                         Traceback (most recent call last)",
      "\u001b[1;32me:\\Projects\\Python\\autogen-sandbox\\query.ipynb Cell 3\u001b[0m line \u001b[0;36m4\n\u001b[0;32m      <a href='vscode-notebook-cell:/e%3A/Projects/Python/autogen-sandbox/query.ipynb#W2sZmlsZQ%3D%3D?line=0'>1</a>\u001b[0m \u001b[39m# Pure Vector Search\u001b[39;00m\n\u001b[0;32m      <a href='vscode-notebook-cell:/e%3A/Projects/Python/autogen-sandbox/query.ipynb#W2sZmlsZQ%3D%3D?line=1'>2</a>\u001b[0m query \u001b[39m=\u001b[39m \u001b[39m\"\u001b[39m\u001b[39mdescribe challenger sales model\u001b[39m\u001b[39m\"\u001b[39m  \n\u001b[1;32m----> <a href='vscode-notebook-cell:/e%3A/Projects/Python/autogen-sandbox/query.ipynb#W2sZmlsZQ%3D%3D?line=3'>4</a>\u001b[0m results \u001b[39m=\u001b[39m search_client\u001b[39m.\u001b[39;49msearch_hybrid(query)  \n",
      "File \u001b[1;32me:\\Projects\\Python\\autogen-sandbox\\backend\\tools\\searchtool.py:45\u001b[0m, in \u001b[0;36mSearch.search_hybrid\u001b[1;34m(self, query)\u001b[0m\n\u001b[0;32m     38\u001b[0m r \u001b[39m=\u001b[39m \u001b[39mself\u001b[39m\u001b[39m.\u001b[39msc\u001b[39m.\u001b[39msearch(  \n\u001b[0;32m     39\u001b[0m     search_text\u001b[39m=\u001b[39m\u001b[39mNone\u001b[39;00m,  \n\u001b[0;32m     40\u001b[0m     vector_queries\u001b[39m=\u001b[39m [vector_query],\n\u001b[0;32m     41\u001b[0m     vector_filter_mode\u001b[39m=\u001b[39mVectorFilterMode\u001b[39m.\u001b[39mPRE_FILTER,\n\u001b[0;32m     42\u001b[0m     select\u001b[39m=\u001b[39m[\u001b[39m\"\u001b[39m\u001b[39mcategory\u001b[39m\u001b[39m\"\u001b[39m, \u001b[39m\"\u001b[39m\u001b[39msourcefile\u001b[39m\u001b[39m\"\u001b[39m, \u001b[39m\"\u001b[39m\u001b[39mcontent\u001b[39m\u001b[39m\"\u001b[39m],\n\u001b[0;32m     43\u001b[0m )\n\u001b[0;32m     44\u001b[0m \u001b[39mprint\u001b[39m(\u001b[39m\"\u001b[39m\u001b[39mGot result\u001b[39m\u001b[39m\"\u001b[39m)\n\u001b[1;32m---> 45\u001b[0m \u001b[39mfor\u001b[39;49;00m doc \u001b[39min\u001b[39;49;00m r:\n\u001b[0;32m     46\u001b[0m         results\u001b[39m.\u001b[39;49mappend(\u001b[39mf\u001b[39;49m\u001b[39m\"\u001b[39;49m\u001b[39m[SOURCEFILE:  \u001b[39;49m\u001b[39m{\u001b[39;49;00mdoc[\u001b[39m'\u001b[39;49m\u001b[39msourcefile\u001b[39;49m\u001b[39m'\u001b[39;49m]\u001b[39m}\u001b[39;49;00m\u001b[39m]\u001b[39;49m\u001b[39m\"\u001b[39;49m \u001b[39m+\u001b[39;49m doc[\u001b[39m'\u001b[39;49m\u001b[39mcontent\u001b[39;49m\u001b[39m'\u001b[39;49m])\n\u001b[0;32m     47\u001b[0m \u001b[39mprint\u001b[39m(\u001b[39m\"\u001b[39m\u001b[39m\\n\u001b[39;00m\u001b[39m\"\u001b[39m\u001b[39m.\u001b[39mjoin(results))\n",
      "File \u001b[1;32me:\\Projects\\Python\\autogen-sandbox\\.venv\\Lib\\site-packages\\azure\\search\\documents\\_paging.py:54\u001b[0m, in \u001b[0;36mSearchItemPaged.__next__\u001b[1;34m(self)\u001b[0m\n\u001b[0;32m     52\u001b[0m     first_iterator \u001b[39m=\u001b[39m \u001b[39mself\u001b[39m\u001b[39m.\u001b[39m_first_iterator_instance()\n\u001b[0;32m     53\u001b[0m     \u001b[39mself\u001b[39m\u001b[39m.\u001b[39m_page_iterator \u001b[39m=\u001b[39m itertools\u001b[39m.\u001b[39mchain\u001b[39m.\u001b[39mfrom_iterable(first_iterator)\n\u001b[1;32m---> 54\u001b[0m \u001b[39mreturn\u001b[39;00m \u001b[39mnext\u001b[39m(\u001b[39mself\u001b[39m\u001b[39m.\u001b[39m_page_iterator)\n",
      "File \u001b[1;32me:\\Projects\\Python\\autogen-sandbox\\.venv\\Lib\\site-packages\\azure\\core\\paging.py:75\u001b[0m, in \u001b[0;36mPageIterator.__next__\u001b[1;34m(self)\u001b[0m\n\u001b[0;32m     73\u001b[0m     \u001b[39mraise\u001b[39;00m \u001b[39mStopIteration\u001b[39;00m(\u001b[39m\"\u001b[39m\u001b[39mEnd of paging\u001b[39m\u001b[39m\"\u001b[39m)\n\u001b[0;32m     74\u001b[0m \u001b[39mtry\u001b[39;00m:\n\u001b[1;32m---> 75\u001b[0m     \u001b[39mself\u001b[39m\u001b[39m.\u001b[39m_response \u001b[39m=\u001b[39m \u001b[39mself\u001b[39;49m\u001b[39m.\u001b[39;49m_get_next(\u001b[39mself\u001b[39;49m\u001b[39m.\u001b[39;49mcontinuation_token)\n\u001b[0;32m     76\u001b[0m \u001b[39mexcept\u001b[39;00m AzureError \u001b[39mas\u001b[39;00m error:\n\u001b[0;32m     77\u001b[0m     \u001b[39mif\u001b[39;00m \u001b[39mnot\u001b[39;00m error\u001b[39m.\u001b[39mcontinuation_token:\n",
      "File \u001b[1;32me:\\Projects\\Python\\autogen-sandbox\\.venv\\Lib\\site-packages\\azure\\search\\documents\\_paging.py:124\u001b[0m, in \u001b[0;36mSearchPageIterator._get_next_cb\u001b[1;34m(self, continuation_token)\u001b[0m\n\u001b[0;32m    122\u001b[0m \u001b[39mdef\u001b[39;00m \u001b[39m_get_next_cb\u001b[39m(\u001b[39mself\u001b[39m, continuation_token):\n\u001b[0;32m    123\u001b[0m     \u001b[39mif\u001b[39;00m continuation_token \u001b[39mis\u001b[39;00m \u001b[39mNone\u001b[39;00m:\n\u001b[1;32m--> 124\u001b[0m         \u001b[39mreturn\u001b[39;00m \u001b[39mself\u001b[39;49m\u001b[39m.\u001b[39;49m_client\u001b[39m.\u001b[39;49mdocuments\u001b[39m.\u001b[39;49msearch_post(search_request\u001b[39m=\u001b[39;49m\u001b[39mself\u001b[39;49m\u001b[39m.\u001b[39;49m_initial_query\u001b[39m.\u001b[39;49mrequest, \u001b[39m*\u001b[39;49m\u001b[39m*\u001b[39;49m\u001b[39mself\u001b[39;49m\u001b[39m.\u001b[39;49m_kwargs)\n\u001b[0;32m    126\u001b[0m     _next_link, next_page_request \u001b[39m=\u001b[39m unpack_continuation_token(continuation_token)\n\u001b[0;32m    128\u001b[0m     \u001b[39mreturn\u001b[39;00m \u001b[39mself\u001b[39m\u001b[39m.\u001b[39m_client\u001b[39m.\u001b[39mdocuments\u001b[39m.\u001b[39msearch_post(search_request\u001b[39m=\u001b[39mnext_page_request, \u001b[39m*\u001b[39m\u001b[39m*\u001b[39m\u001b[39mself\u001b[39m\u001b[39m.\u001b[39m_kwargs)\n",
      "File \u001b[1;32me:\\Projects\\Python\\autogen-sandbox\\.venv\\Lib\\site-packages\\azure\\core\\tracing\\decorator.py:78\u001b[0m, in \u001b[0;36mdistributed_trace.<locals>.decorator.<locals>.wrapper_use_tracer\u001b[1;34m(*args, **kwargs)\u001b[0m\n\u001b[0;32m     76\u001b[0m span_impl_type \u001b[39m=\u001b[39m settings\u001b[39m.\u001b[39mtracing_implementation()\n\u001b[0;32m     77\u001b[0m \u001b[39mif\u001b[39;00m span_impl_type \u001b[39mis\u001b[39;00m \u001b[39mNone\u001b[39;00m:\n\u001b[1;32m---> 78\u001b[0m     \u001b[39mreturn\u001b[39;00m func(\u001b[39m*\u001b[39;49margs, \u001b[39m*\u001b[39;49m\u001b[39m*\u001b[39;49mkwargs)\n\u001b[0;32m     80\u001b[0m \u001b[39m# Merge span is parameter is set, but only if no explicit parent are passed\u001b[39;00m\n\u001b[0;32m     81\u001b[0m \u001b[39mif\u001b[39;00m merge_span \u001b[39mand\u001b[39;00m \u001b[39mnot\u001b[39;00m passed_in_parent:\n",
      "File \u001b[1;32me:\\Projects\\Python\\autogen-sandbox\\.venv\\Lib\\site-packages\\azure\\search\\documents\\_generated\\operations\\_documents_operations.py:756\u001b[0m, in \u001b[0;36mDocumentsOperations.search_post\u001b[1;34m(self, search_request, request_options, **kwargs)\u001b[0m\n\u001b[0;32m    754\u001b[0m     map_error(status_code\u001b[39m=\u001b[39mresponse\u001b[39m.\u001b[39mstatus_code, response\u001b[39m=\u001b[39mresponse, error_map\u001b[39m=\u001b[39merror_map)\n\u001b[0;32m    755\u001b[0m     error \u001b[39m=\u001b[39m \u001b[39mself\u001b[39m\u001b[39m.\u001b[39m_deserialize\u001b[39m.\u001b[39mfailsafe_deserialize(_models\u001b[39m.\u001b[39mSearchError, pipeline_response)\n\u001b[1;32m--> 756\u001b[0m     \u001b[39mraise\u001b[39;00m HttpResponseError(response\u001b[39m=\u001b[39mresponse, model\u001b[39m=\u001b[39merror)\n\u001b[0;32m    758\u001b[0m deserialized \u001b[39m=\u001b[39m \u001b[39mself\u001b[39m\u001b[39m.\u001b[39m_deserialize(\u001b[39m\"\u001b[39m\u001b[39mSearchDocumentsResult\u001b[39m\u001b[39m\"\u001b[39m, pipeline_response)\n\u001b[0;32m    760\u001b[0m \u001b[39mif\u001b[39;00m \u001b[39mcls\u001b[39m:\n",
      "\u001b[1;31mHttpResponseError\u001b[0m: (InvalidRequestParameter) The selected filter mode 'preFilter' is not supported by this index. Only new indexes opted in will support the filter type.\r\nParameter name: vector.filterMode\nCode: InvalidRequestParameter\nMessage: The selected filter mode 'preFilter' is not supported by this index. Only new indexes opted in will support the filter type.\r\nParameter name: vector.filterMode\nException Details:\t(InvalidVectorQuery) The selected filter mode 'preFilter' is not supported by this index. Only new indexes opted in will support the filter type.\n\tCode: InvalidVectorQuery\n\tMessage: The selected filter mode 'preFilter' is not supported by this index. Only new indexes opted in will support the filter type."
     ]
    }
   ],
   "source": [
    "# Pure Vector Search\n",
    "query = \"describe challenger sales model\"  \n",
    "  \n",
    "results = search_client.search_hybrid(query)  \n",
    "  "
   ]
  },
  {
   "cell_type": "code",
   "execution_count": null,
   "metadata": {},
   "outputs": [],
   "source": [
    "# Hybrid\n",
    "query = \"bedrock\"  \n",
    "  \n",
    "search_client = SearchClient(service_endpoint, index_name, credential=credential)\n",
    "  \n",
    "vector_query = VectorizedQuery(vector=get_embedding(query), k_nearest_neighbors=3, fields=\"contentVector\")\n",
    "  \n",
    "category = \"AWS\"\n",
    "\n",
    "results = search_client.search(  \n",
    "    search_text=None,  \n",
    "    vector_queries= [vector_query],\n",
    "    vector_filter_mode=VectorFilterMode.PRE_FILTER,\n",
    "    filter=f\"category eq '{category}'\",\n",
    "    #filter=\"category eq 'Microsoft'\",\n",
    "    select=[\"title\", \"content\", \"category\", \"spr\"],\n",
    ")\n",
    "  \n",
    "for result in results:  \n",
    "    print(f\"Title: {result['title']}\")  \n",
    "    print(f\"Score: {result['@search.score']}\")  \n",
    "    print(f\"Content: {result['content']}\")  \n",
    "    print(f\"Category: {result['category']}\\n\")  \n",
    "    print(f\"SPR: {result['spr']}\\n\")  "
   ]
  }
 ],
 "metadata": {
  "kernelspec": {
   "display_name": ".venv",
   "language": "python",
   "name": "python3"
  },
  "language_info": {
   "codemirror_mode": {
    "name": "ipython",
    "version": 3
   },
   "file_extension": ".py",
   "mimetype": "text/x-python",
   "name": "python",
   "nbconvert_exporter": "python",
   "pygments_lexer": "ipython3",
   "version": "3.11.0"
  },
  "orig_nbformat": 4
 },
 "nbformat": 4,
 "nbformat_minor": 2
}
